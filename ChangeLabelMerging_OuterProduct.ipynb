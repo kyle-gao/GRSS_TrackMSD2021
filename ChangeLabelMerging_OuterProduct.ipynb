{
  "nbformat": 4,
  "nbformat_minor": 0,
  "metadata": {
    "colab": {
      "name": "ChangeLabelMerging_OuterProduct.ipynb",
      "provenance": [],
      "authorship_tag": "ABX9TyOac03GFl0sBnpOS0qnk0eZ",
      "include_colab_link": true
    },
    "kernelspec": {
      "name": "python3",
      "display_name": "Python 3"
    }
  },
  "cells": [
    {
      "cell_type": "markdown",
      "metadata": {
        "id": "view-in-github",
        "colab_type": "text"
      },
      "source": [
        "<a href=\"https://colab.research.google.com/github/kyle-gao/GRSS_TrackMSD2021/blob/main/ChangeLabelMerging_OuterProduct.ipynb\" target=\"_parent\"><img src=\"https://colab.research.google.com/assets/colab-badge.svg\" alt=\"Open In Colab\"/></a>"
      ]
    },
    {
      "cell_type": "markdown",
      "metadata": {
        "id": "40qTspsu7KAk"
      },
      "source": [
        "#2 Land Cover Label to 1 mixed change label\r\n",
        "\r\n",
        "Suppose we have 2 landcover labels with n classes for landcover change detection. We wish to produce a single land cover change label with ~n^2 classes. This operation should be **vectorized**.\r\n",
        "\r\n",
        "Consider the following example from the GRSS contest 2021 "
      ]
    },
    {
      "cell_type": "markdown",
      "metadata": {
        "id": "aTSxOBuG7m8S"
      },
      "source": [
        "![image.png](data:image/png;base64,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)"
      ]
    },
    {
      "cell_type": "markdown",
      "metadata": {
        "id": "tT-EXkn37x1I"
      },
      "source": [
        "##Consider using tensor outer product\r\n",
        "https://en.wikipedia.org/wiki/Outer_product\r\n",
        "\r\n",
        "\r\n",
        "\r\n",
        "1.  One hot encode the categorical labels \r\n",
        "2.  Outer-product the two labels to produce a change map\r\n",
        "3.  Use argmax to go back to categorical labels. \r\n",
        "\r\n"
      ]
    },
    {
      "cell_type": "code",
      "metadata": {
        "id": "gosnaCiS6zIw"
      },
      "source": [
        "import tensorflow as tf\r\n",
        "import numpy as np"
      ],
      "execution_count": 1,
      "outputs": []
    },
    {
      "cell_type": "code",
      "metadata": {
        "id": "rluvhlaE8xqJ"
      },
      "source": [
        "n_classes = 6\r\n",
        "label_shape = (1,512,512,1)\r\n",
        "np.random.seed(seed=10)"
      ],
      "execution_count": 103,
      "outputs": []
    },
    {
      "cell_type": "code",
      "metadata": {
        "id": "8H2E92m48V3L"
      },
      "source": [
        "label1 = np.random.randint(low = 0, high=n_classes, size=label_shape)\r\n",
        "label2 = np.random.randint(low = 0, high=n_classes, size=label_shape)"
      ],
      "execution_count": 104,
      "outputs": []
    },
    {
      "cell_type": "code",
      "metadata": {
        "colab": {
          "base_uri": "https://localhost:8080/"
        },
        "id": "tY5GI1YF9brP",
        "outputId": "335ae729-e5dd-4df2-e939-f665d6ab8558"
      },
      "source": [
        "label1 [:,50,50,0] #using rank 4 tensors for (n,Height,Weight,1)"
      ],
      "execution_count": 105,
      "outputs": [
        {
          "output_type": "execute_result",
          "data": {
            "text/plain": [
              "array([1])"
            ]
          },
          "metadata": {
            "tags": []
          },
          "execution_count": 105
        }
      ]
    },
    {
      "cell_type": "markdown",
      "metadata": {
        "id": "XUQfJKEn94S8"
      },
      "source": [
        "##We one hot encode the labels"
      ]
    },
    {
      "cell_type": "code",
      "metadata": {
        "id": "SQpqdI4392g-"
      },
      "source": [
        "label1 = tf.one_hot(tf.cast(label1[:,:,:,0],dtype = tf.uint8),depth=n_classes)\r\n",
        "label2 = tf.one_hot(tf.cast(label2[:,:,:,0],dtype = tf.uint8),depth=n_classes)"
      ],
      "execution_count": 106,
      "outputs": []
    },
    {
      "cell_type": "code",
      "metadata": {
        "colab": {
          "base_uri": "https://localhost:8080/"
        },
        "id": "ajyo_He7-SMf",
        "outputId": "84bd3b54-fecc-487e-b85f-5c2efe35fcbb"
      },
      "source": [
        "label1[:,50,50,:]"
      ],
      "execution_count": 107,
      "outputs": [
        {
          "output_type": "execute_result",
          "data": {
            "text/plain": [
              "<tf.Tensor: shape=(1, 6), dtype=float32, numpy=array([[0., 1., 0., 0., 0., 0.]], dtype=float32)>"
            ]
          },
          "metadata": {
            "tags": []
          },
          "execution_count": 107
        }
      ]
    },
    {
      "cell_type": "code",
      "metadata": {
        "colab": {
          "base_uri": "https://localhost:8080/"
        },
        "id": "6Wl2GdKiAGnm",
        "outputId": "69dff5ca-a3d8-4b4d-ad16-53a475b268e2"
      },
      "source": [
        "label2[:,50,50,:]"
      ],
      "execution_count": 108,
      "outputs": [
        {
          "output_type": "execute_result",
          "data": {
            "text/plain": [
              "<tf.Tensor: shape=(1, 6), dtype=float32, numpy=array([[0., 0., 1., 0., 0., 0.]], dtype=float32)>"
            ]
          },
          "metadata": {
            "tags": []
          },
          "execution_count": 108
        }
      ]
    },
    {
      "cell_type": "markdown",
      "metadata": {
        "id": "pzyyesP9-Z1H"
      },
      "source": [
        "##Use tf.einsum to take the outer-product\r\n",
        "einsum is a very useful operation available in numpy, pytorch and tensorflow that allows for fast implementations of arbitrary tensor contractions/products\r\n"
      ]
    },
    {
      "cell_type": "markdown",
      "metadata": {
        "id": "lUEJGOUz_IDz"
      },
      "source": [
        "The trick to use einsum is to view tensors operations as operations on elements of tensors.\r\n",
        "\r\n",
        "Eg. matrix product of M and N: \\\\\r\n",
        "$P_{ik} = \\Sigma_j M_{ij} N_{jk}$\r\n",
        "\r\n",
        "this is tf.einsum(\"ij,jk->ik\", M,N)\r\n"
      ]
    },
    {
      "cell_type": "code",
      "metadata": {
        "id": "mwUap3cK-WT1"
      },
      "source": [
        "#outer product over the one hot dimension\r\n",
        "\r\n",
        "changelabel = tf.einsum(\"abcd,abce->abcde\",label1,label2) "
      ],
      "execution_count": 109,
      "outputs": []
    },
    {
      "cell_type": "markdown",
      "metadata": {
        "id": "1gWx7CRgB7Nx"
      },
      "source": [
        "The outer product is size (n,Height,Width,n_classes,n_classes) \r\n",
        "\r\n",
        "At each pixel, we will have a matrix of dimensions numclasses by numclasses, with a one hot encoding of the change label\r\n",
        "\r\n",
        "\r\n",
        "We see that the element (50,50)'s label starts as 1 and goes to 2\r\n",
        "So the 1sth row (not 0th) and 2nd column will have a 1, all other elemnts will be 0.\r\n",
        "\r\n",
        "\r\n"
      ]
    },
    {
      "cell_type": "code",
      "metadata": {
        "colab": {
          "base_uri": "https://localhost:8080/"
        },
        "id": "r9cHalshABjX",
        "outputId": "acb1b5a3-5c8c-4129-b8e5-18d8eb87e42d"
      },
      "source": [
        "changelabel[0,50,50,:]"
      ],
      "execution_count": 110,
      "outputs": [
        {
          "output_type": "execute_result",
          "data": {
            "text/plain": [
              "<tf.Tensor: shape=(6, 6), dtype=float32, numpy=\n",
              "array([[0., 0., 0., 0., 0., 0.],\n",
              "       [0., 0., 1., 0., 0., 0.],\n",
              "       [0., 0., 0., 0., 0., 0.],\n",
              "       [0., 0., 0., 0., 0., 0.],\n",
              "       [0., 0., 0., 0., 0., 0.],\n",
              "       [0., 0., 0., 0., 0., 0.]], dtype=float32)>"
            ]
          },
          "metadata": {
            "tags": []
          },
          "execution_count": 110
        }
      ]
    },
    {
      "cell_type": "markdown",
      "metadata": {
        "id": "s1QCSV6kCfPm"
      },
      "source": [
        "##Option 1: n_classes^2 classes in the change label*\r\n",
        "For this, we can easily **flatten** the last 2 dimensions then use argmax to map the label back to categorical"
      ]
    },
    {
      "cell_type": "code",
      "metadata": {
        "id": "36L2lTwDAfP6"
      },
      "source": [
        "changelabel2 = tf.reshape(changelabel,(label_shape[0],label_shape[1],label_shape[2],n_classes**2))\r\n",
        "changelabel2 = tf.argmax(changelabel2,axis=-1)"
      ],
      "execution_count": 111,
      "outputs": []
    },
    {
      "cell_type": "code",
      "metadata": {
        "colab": {
          "base_uri": "https://localhost:8080/"
        },
        "id": "0LmqD3PwCobM",
        "outputId": "acaf5630-9cf6-43cf-f523-42c1b720fa18"
      },
      "source": [
        "changelabel2[0,50,50] #Note that the (1,2) th element of the matrix is the 8th element"
      ],
      "execution_count": 112,
      "outputs": [
        {
          "output_type": "execute_result",
          "data": {
            "text/plain": [
              "<tf.Tensor: shape=(), dtype=int64, numpy=8>"
            ]
          },
          "metadata": {
            "tags": []
          },
          "execution_count": 112
        }
      ]
    },
    {
      "cell_type": "markdown",
      "metadata": {
        "id": "ckOPpO0ME5gZ"
      },
      "source": [
        "##Option 2 n_classes^2-1 classes in the change label, follows the convention of the GRSS contest\r\n",
        "\r\n",
        "Make a change array that labels entries of the change matrix so that the diagonal elements are 0. Other entries count up from 1"
      ]
    },
    {
      "cell_type": "code",
      "metadata": {
        "colab": {
          "base_uri": "https://localhost:8080/"
        },
        "id": "oyDrxm8wEPNA",
        "outputId": "37157447-741e-486b-80f0-b88c8b68e53b"
      },
      "source": [
        "def make_label_change_array(num_classes):\r\n",
        "  \"\"\"Arg:\r\n",
        "  num_classes:int, number of classes\r\n",
        "  returns:\r\n",
        "  num_classes^2 matrix of categorical change labels.\r\n",
        "  \"\"\"\r\n",
        "  label_change_arr = np.zeros((num_classes,num_classes),dtype=np.uint8)\r\n",
        "  i = 0\r\n",
        "  for x in range(num_classes):\r\n",
        "    for y in range(num_classes):\r\n",
        "      label_change_arr[x,y] = i *(x!=y)\r\n",
        "      i += 1\r\n",
        "  return label_change_arr\r\n",
        "\r\n",
        "label_change_arr = make_label_change_array(n_classes)\r\n",
        "\r\n",
        "print(label_change_arr)"
      ],
      "execution_count": 113,
      "outputs": [
        {
          "output_type": "stream",
          "text": [
            "[[ 0  1  2  3  4  5]\n",
            " [ 6  0  8  9 10 11]\n",
            " [12 13  0 15 16 17]\n",
            " [18 19 20  0 22 23]\n",
            " [24 25 26 27  0 29]\n",
            " [30 31 32 33 34  0]]\n"
          ],
          "name": "stdout"
        }
      ]
    },
    {
      "cell_type": "markdown",
      "metadata": {
        "id": "26x6SXiQF-kU"
      },
      "source": [
        "use hadamard product and reduce sum to convert to categorical"
      ]
    },
    {
      "cell_type": "code",
      "metadata": {
        "colab": {
          "base_uri": "https://localhost:8080/"
        },
        "id": "ZGVJjuZEF6Sy",
        "outputId": "0154bd27-35af-49e7-8254-2879f88bf325"
      },
      "source": [
        "changelabel = changelabel*label_change_arr\r\n",
        "changelabel[0,50,50,:]"
      ],
      "execution_count": 114,
      "outputs": [
        {
          "output_type": "execute_result",
          "data": {
            "text/plain": [
              "<tf.Tensor: shape=(6, 6), dtype=float32, numpy=\n",
              "array([[0., 0., 0., 0., 0., 0.],\n",
              "       [0., 0., 8., 0., 0., 0.],\n",
              "       [0., 0., 0., 0., 0., 0.],\n",
              "       [0., 0., 0., 0., 0., 0.],\n",
              "       [0., 0., 0., 0., 0., 0.],\n",
              "       [0., 0., 0., 0., 0., 0.]], dtype=float32)>"
            ]
          },
          "metadata": {
            "tags": []
          },
          "execution_count": 114
        }
      ]
    },
    {
      "cell_type": "code",
      "metadata": {
        "id": "ToXXM3hYGFVb"
      },
      "source": [
        "changelabel = tf.reduce_sum(changelabel,axis=[-1,-2])"
      ],
      "execution_count": 115,
      "outputs": []
    },
    {
      "cell_type": "code",
      "metadata": {
        "colab": {
          "base_uri": "https://localhost:8080/"
        },
        "id": "92khIXIuGQpl",
        "outputId": "0cb4a728-2b01-4a2b-98e7-88d21ec39a3a"
      },
      "source": [
        "changelabel[0,50,50] "
      ],
      "execution_count": 116,
      "outputs": [
        {
          "output_type": "execute_result",
          "data": {
            "text/plain": [
              "<tf.Tensor: shape=(), dtype=float32, numpy=8.0>"
            ]
          },
          "metadata": {
            "tags": []
          },
          "execution_count": 116
        }
      ]
    },
    {
      "cell_type": "markdown",
      "metadata": {
        "id": "-CUqRrvlHCYH"
      },
      "source": [
        "Note that the two approaches are not equivalent for 2nd row and beyond"
      ]
    }
  ]
}