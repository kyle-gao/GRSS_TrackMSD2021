{
  "nbformat": 4,
  "nbformat_minor": 0,
  "metadata": {
    "colab": {
      "name": "MakeTilesLowResNLCDLANDSAT.ipynb",
      "provenance": [],
      "authorship_tag": "ABX9TyMAVHgd097DF3hWntcGsIEY",
      "include_colab_link": true
    },
    "kernelspec": {
      "name": "python3",
      "display_name": "Python 3"
    }
  },
  "cells": [
    {
      "cell_type": "markdown",
      "metadata": {
        "id": "view-in-github",
        "colab_type": "text"
      },
      "source": [
        "<a href=\"https://colab.research.google.com/github/kyle-gao/GRSS_TrackMSD2021/blob/main/MakeTilesLowResNLCDLANDSAT.ipynb\" target=\"_parent\"><img src=\"https://colab.research.google.com/assets/colab-badge.svg\" alt=\"Open In Colab\"/></a>"
      ]
    },
    {
      "cell_type": "code",
      "metadata": {
        "id": "p7uzeZSRdfqL"
      },
      "source": [
        "import os \r\n",
        "import gdal\r\n",
        "import urllib.request\r\n",
        "import matplotlib.pyplot as plt\r\n",
        "import numpy as np\r\n",
        "import tensorflow as tf"
      ],
      "execution_count": 119,
      "outputs": []
    },
    {
      "cell_type": "code",
      "metadata": {
        "id": "iPA_iLuljds9"
      },
      "source": [
        "os.mkdir(\"RawData\")\r\n",
        "os.mkdir(\"TiledData\")"
      ],
      "execution_count": null,
      "outputs": []
    },
    {
      "cell_type": "code",
      "metadata": {
        "id": "VH6RUw9hLMhY"
      },
      "source": [
        "os.mkdir(\"./TiledData\"+\"/im1\")\r\n",
        "os.mkdir(\"./TiledData\"+\"/im2\")\r\n",
        "os.mkdir(\"./TiledData\"+\"/label1\")\r\n",
        "os.mkdir(\"./TiledData\"+\"/label2\")"
      ],
      "execution_count": 188,
      "outputs": []
    },
    {
      "cell_type": "code",
      "metadata": {
        "colab": {
          "base_uri": "https://localhost:8080/"
        },
        "id": "puqELCA3dqCG",
        "outputId": "6656da0a-d933-4c38-bf5d-10a6c8bf4354"
      },
      "source": [
        "!wget https://raw.githubusercontent.com/kyle-gao/GRSS_TrackMSD2021/main/ABPN_NLCDSuperRes/validation_tile_index.txt"
      ],
      "execution_count": null,
      "outputs": [
        {
          "output_type": "stream",
          "text": [
            "--2021-03-15 15:19:06--  https://raw.githubusercontent.com/kyle-gao/GRSS_TrackMSD2021/main/ABPN_NLCDSuperRes/validation_tile_index.txt\n",
            "Resolving raw.githubusercontent.com (raw.githubusercontent.com)... 185.199.110.133, 185.199.111.133, 185.199.108.133, ...\n",
            "Connecting to raw.githubusercontent.com (raw.githubusercontent.com)|185.199.110.133|:443... connected.\n",
            "HTTP request sent, awaiting response... 200 OK\n",
            "Length: 249 [text/plain]\n",
            "Saving to: ‘validation_tile_index.txt’\n",
            "\n",
            "\r          validatio   0%[                    ]       0  --.-KB/s               \rvalidation_tile_ind 100%[===================>]     249  --.-KB/s    in 0s      \n",
            "\n",
            "2021-03-15 15:19:06 (18.4 MB/s) - ‘validation_tile_index.txt’ saved [249/249]\n",
            "\n"
          ],
          "name": "stdout"
        }
      ]
    },
    {
      "cell_type": "code",
      "metadata": {
        "id": "aEVLZjHRgfP_"
      },
      "source": [
        "with open(\"/content/validation_tile_index.txt\") as file:\r\n",
        "  tiles = file.readlines()\r\n",
        "tiles = list(map(lambda tile: tile.replace(\"\\n\",\"\"),tiles))"
      ],
      "execution_count": null,
      "outputs": []
    },
    {
      "cell_type": "code",
      "metadata": {
        "id": "3oS709XUhytT"
      },
      "source": [
        "url = \"https://dfc2021.blob.core.windows.net/competition-data/DATASET-YEAR/TILE_DATASET-YEAR.tif\""
      ],
      "execution_count": null,
      "outputs": []
    },
    {
      "cell_type": "code",
      "metadata": {
        "id": "GsijjjmBndWR"
      },
      "source": [
        "def get_url(dataset,tile,year):\r\n",
        "  \"\"\"Args:\r\n",
        "  -dataset:\"landsat\" or \"nlcd\"\r\n",
        "  -tiles: valid tile eg. \"2792\"\r\n",
        "  -year\" \"2013\" or \"2016\"\r\n",
        "  \"\"\"\r\n",
        "  url = \"https://dfc2021.blob.core.windows.net/competition-data/DATASET-YEAR/TILE_DATASET-YEAR.tif\"\r\n",
        "  return url.replace(\"DATASET\",dataset).replace(\"YEAR\",year).replace(\"TILE\",tile)"
      ],
      "execution_count": null,
      "outputs": []
    },
    {
      "cell_type": "code",
      "metadata": {
        "id": "7K_TLEgpo5_R"
      },
      "source": [
        "for tile in tiles:\r\n",
        "  urllib.request.urlretrieve(get_url(\"landsat\",tile,\"2013\"),\"./RawData/\"+\"landast_2013_\"+tile)\r\n",
        "  urllib.request.urlretrieve(get_url(\"landsat\",tile,\"2016\"),\"./RawData/\"+\"landast_2016_\"+tile)\r\n",
        "  urllib.request.urlretrieve(get_url(\"nlcd\",tile,\"2013\"),\"./RawData/\"+\"nlcd_2013_\"+tile)\r\n",
        "  urllib.request.urlretrieve(get_url(\"nlcd\",tile,\"2016\"),\"./RawData/\"+\"nlcd_2016_\"+tile)"
      ],
      "execution_count": null,
      "outputs": []
    },
    {
      "cell_type": "code",
      "metadata": {
        "id": "O5UThPr0Ijbh"
      },
      "source": [
        "size = (512,512)\r\n",
        "padding = 'VALID'\r\n",
        "\r\n",
        "\r\n",
        "def write_tiles(tiles,size=(512,512),padding='VALID',save_dir = \"./TiledData\"):\r\n",
        "  \"\"\"\r\n",
        "  Args-\r\n",
        "  filenames: tensorflow list_files dataset object\r\n",
        "  size: tuple of ints\r\n",
        "  padding=one of \"VALID\" \"SAME\"\r\n",
        "  save_dir-save directory\r\n",
        "  \"\"\"\r\n",
        "  (h,w) = size\r\n",
        "  for tile in tiles:\r\n",
        "    img1 = gdal.Open(\"./RawData/\"+\"landast_2013_\"+tile).ReadAsArray()[1:4,:,:]\r\n",
        "    img1 = img1.transpose([1,2,0])\r\n",
        "    img1 = img1[:,:,::-1] #bgr to rgb\r\n",
        "    img1 = tf.expand_dims(img1/np.max(img1),axis=0)\r\n",
        "\r\n",
        "    img2 = gdal.Open(\"./RawData/\"+\"landast_2016_\"+tile).ReadAsArray()[1:4,:,:]\r\n",
        "    img2 = img2.transpose([1,2,0])\r\n",
        "    img2 = img2[:,:,::-1]\r\n",
        "    img2 = tf.expand_dims(img2/np.max(img2),axis=0)\r\n",
        "\r\n",
        "    label1 =  gdal.Open(\"./RawData/\"+\"nlcd_2013_\"+tile).ReadAsArray()\r\n",
        "    label1 = tf.expand_dims(tf.expand_dims(label1,0),axis=-1)/95\r\n",
        "\r\n",
        "    label2 =  gdal.Open(\"./RawData/\"+\"nlcd_2016_\"+tile).ReadAsArray()\r\n",
        "    label2 = tf.expand_dims(tf.expand_dims(label2,0),axis=-1)/95\r\n",
        "\r\n",
        "\r\n",
        "    #(H,W,3)    \r\n",
        "    \r\n",
        "    image_tiles1 =  tf.image.extract_patches(images=img1,\r\n",
        "                           sizes=[1,h, w, 1],\r\n",
        "                           strides=[1,h, w, 1],\r\n",
        "                           rates=[1, 1, 1, 1],\r\n",
        "                           padding=padding)\r\n",
        "    image_tiles1 = tf.reshape(image_tiles1, [-1,h,w,3])\r\n",
        "\r\n",
        "    image_tiles2 =  tf.image.extract_patches(images=img2,\r\n",
        "                           sizes=[1,h, w, 1],\r\n",
        "                           strides=[1,h, w, 1],\r\n",
        "                           rates=[1, 1, 1, 1],\r\n",
        "                           padding=padding)\r\n",
        "    image_tiles2 = tf.reshape(image_tiles2, [-1,h,w,3])\r\n",
        "\r\n",
        "    label_tiles1 =  tf.image.extract_patches(images=label1,\r\n",
        "                           sizes=[1,h, w, 1],\r\n",
        "                           strides=[1,h, w, 1],\r\n",
        "                           rates=[1, 1, 1, 1],\r\n",
        "                           padding=padding)\r\n",
        "    label_tiles1 = tf.reshape(label_tiles1, [-1,h,w,1])\r\n",
        "\r\n",
        "    label_tiles2 =  tf.image.extract_patches(images=label2,\r\n",
        "                           sizes=[1,h, w, 1],\r\n",
        "                           strides=[1,h, w, 1],\r\n",
        "                           rates=[1, 1, 1, 1],\r\n",
        "                           padding=padding)\r\n",
        "    label_tiles2 = tf.reshape(label_tiles2, [-1,h,w,1])\r\n",
        "\r\n",
        "\r\n",
        "\r\n",
        "    for i in range(label_tiles1.shape[0]):\r\n",
        "\r\n",
        "      im1_fn =  save_dir+\"/im1/\"+\"landsat_2013_\"+tile+\"_patch_\"+str(i)+\".png\"\r\n",
        "      im2_fn =  save_dir+\"/im2/\"+\"landsat_2016_\"+tile+\"_patch_\"+str(i)+\".png\"\r\n",
        "\r\n",
        "      label1_fn =  save_dir+\"/label1/\"+\"nlcd_2013_\"+tile+\"_patch_\"+str(i)+\".png\"\r\n",
        "      label2_fn =  save_dir+\"/label2/\"+\"nlcd_2016_\"+tile+\"_patch_\"+str(i)+\".png\"\r\n",
        "\r\n",
        "      tf.keras.preprocessing.image.save_img(im1_fn,image_tiles1[i,:,:,:])\r\n",
        "      tf.keras.preprocessing.image.save_img(im2_fn,image_tiles2[i,:,:,:])\r\n",
        "\r\n",
        "      tf.keras.preprocessing.image.save_img(label1_fn,label_tiles1[i,:,:,:])\r\n",
        "      tf.keras.preprocessing.image.save_img(label2_fn,label_tiles2[i,:,:,:])\r\n",
        "\r\n",
        "\r\n",
        "\r\n",
        "\r\n",
        "    print(im1_fn)"
      ],
      "execution_count": 202,
      "outputs": []
    },
    {
      "cell_type": "code",
      "metadata": {
        "colab": {
          "base_uri": "https://localhost:8080/"
        },
        "id": "JWxDW-D9MJMq",
        "outputId": "1587f71b-5255-4b10-8fe9-360ad7528c11"
      },
      "source": [
        "write_tiles(tiles)"
      ],
      "execution_count": 203,
      "outputs": [
        {
          "output_type": "stream",
          "text": [
            "./TiledData/im1/landsat_2013_1950_patch_48.png\n",
            "./TiledData/im1/landsat_2013_2002_patch_48.png\n",
            "./TiledData/im1/landsat_2013_2003_patch_48.png\n",
            "./TiledData/im1/landsat_2013_2283_patch_34.png\n",
            "./TiledData/im1/landsat_2013_2448_patch_48.png\n",
            "./TiledData/im1/landsat_2013_2449_patch_48.png\n",
            "./TiledData/im1/landsat_2013_2608_patch_48.png\n",
            "./TiledData/im1/landsat_2013_2661_patch_48.png\n",
            "./TiledData/im1/landsat_2013_2662_patch_48.png\n",
            "./TiledData/im1/landsat_2013_2663_patch_48.png\n",
            "./TiledData/im1/landsat_2013_2664_patch_48.png\n",
            "./TiledData/im1/landsat_2013_2716_patch_48.png\n",
            "./TiledData/im1/landsat_2013_2717_patch_48.png\n",
            "./TiledData/im1/landsat_2013_2934_patch_48.png\n",
            "./TiledData/im1/landsat_2013_2935_patch_48.png\n",
            "./TiledData/im1/landsat_2013_2988_patch_48.png\n",
            "./TiledData/im1/landsat_2013_2989_patch_48.png\n",
            "./TiledData/im1/landsat_2013_3039_patch_48.png\n",
            "./TiledData/im1/landsat_2013_3040_patch_48.png\n",
            "./TiledData/im1/landsat_2013_3097_patch_48.png\n",
            "./TiledData/im1/landsat_2013_3098_patch_48.png\n",
            "./TiledData/im1/landsat_2013_3136_patch_48.png\n",
            "./TiledData/im1/landsat_2013_3137_patch_48.png\n",
            "./TiledData/im1/landsat_2013_3151_patch_48.png\n",
            "./TiledData/im1/landsat_2013_3152_patch_48.png\n",
            "./TiledData/im1/landsat_2013_3191_patch_48.png\n",
            "./TiledData/im1/landsat_2013_3257_patch_48.png\n",
            "./TiledData/im1/landsat_2013_3258_patch_48.png\n",
            "./TiledData/im1/landsat_2013_3259_patch_48.png\n",
            "./TiledData/im1/landsat_2013_3311_patch_48.png\n",
            "./TiledData/im1/landsat_2013_3312_patch_48.png\n",
            "./TiledData/im1/landsat_2013_3313_patch_48.png\n",
            "./TiledData/im1/landsat_2013_3365_patch_48.png\n",
            "./TiledData/im1/landsat_2013_3366_patch_48.png\n",
            "./TiledData/im1/landsat_2013_3419_patch_48.png\n",
            "./TiledData/im1/landsat_2013_3420_patch_48.png\n",
            "./TiledData/im1/landsat_2013_3430_patch_48.png\n",
            "./TiledData/im1/landsat_2013_3431_patch_48.png\n",
            "./TiledData/im1/landsat_2013_3469_patch_48.png\n",
            "./TiledData/im1/landsat_2013_3523_patch_48.png\n",
            "./TiledData/im1/landsat_2013_3629_patch_48.png\n",
            "./TiledData/im1/landsat_2013_3630_patch_48.png\n",
            "./TiledData/im1/landsat_2013_3684_patch_48.png\n",
            "./TiledData/im1/landsat_2013_3685_patch_48.png\n",
            "./TiledData/im1/landsat_2013_3716_patch_48.png\n",
            "./TiledData/im1/landsat_2013_3738_patch_34.png\n",
            "./TiledData/im1/landsat_2013_3739_patch_48.png\n",
            "./TiledData/im1/landsat_2013_3771_patch_48.png\n",
            "./TiledData/im1/landsat_2013_4174_patch_48.png\n",
            "./TiledData/im1/landsat_2013_4175_patch_48.png\n"
          ],
          "name": "stdout"
        }
      ]
    },
    {
      "cell_type": "code",
      "metadata": {
        "id": "aMo9-7wEPlrQ"
      },
      "source": [
        "from google.colab import drive\r\n",
        "import shutil"
      ],
      "execution_count": 206,
      "outputs": []
    },
    {
      "cell_type": "code",
      "metadata": {
        "colab": {
          "base_uri": "https://localhost:8080/"
        },
        "id": "ngS2HnPCPn6T",
        "outputId": "1bd86dd0-9640-4b67-e020-f1669616514d"
      },
      "source": [
        "drive.mount(\"./Drive\")"
      ],
      "execution_count": 205,
      "outputs": [
        {
          "output_type": "stream",
          "text": [
            "Mounted at ./Drive\n"
          ],
          "name": "stdout"
        }
      ]
    },
    {
      "cell_type": "code",
      "metadata": {
        "colab": {
          "base_uri": "https://localhost:8080/",
          "height": 35
        },
        "id": "fB2xDV-PPwgJ",
        "outputId": "5359f2bd-a25e-4383-8b85-7ba337b2b3f1"
      },
      "source": [
        "shutil.make_archive(\"BitemporalLandsatNLCD\",format=\"zip\",root_dir = \"/content\",base_dir = \"TiledData\")"
      ],
      "execution_count": 210,
      "outputs": [
        {
          "output_type": "execute_result",
          "data": {
            "application/vnd.google.colaboratory.intrinsic+json": {
              "type": "string"
            },
            "text/plain": [
              "'/content/BitemporalLandsatNLCD.zip'"
            ]
          },
          "metadata": {
            "tags": []
          },
          "execution_count": 210
        }
      ]
    },
    {
      "cell_type": "code",
      "metadata": {
        "colab": {
          "base_uri": "https://localhost:8080/",
          "height": 35
        },
        "id": "d9J6xKyRQnu-",
        "outputId": "b15edc03-e44a-4a30-d9cd-54118454f975"
      },
      "source": [
        "shutil.copy2(\"/content/BitemporalLandsatNLCD.zip\",\"/content/Drive/MyDrive\")"
      ],
      "execution_count": 211,
      "outputs": [
        {
          "output_type": "execute_result",
          "data": {
            "application/vnd.google.colaboratory.intrinsic+json": {
              "type": "string"
            },
            "text/plain": [
              "'/content/Drive/MyDrive/BitemporalLandsatNLCD.zip'"
            ]
          },
          "metadata": {
            "tags": []
          },
          "execution_count": 211
        }
      ]
    },
    {
      "cell_type": "code",
      "metadata": {
        "id": "AgBgYkqmRM4A"
      },
      "source": [
        ""
      ],
      "execution_count": null,
      "outputs": []
    }
  ]
}